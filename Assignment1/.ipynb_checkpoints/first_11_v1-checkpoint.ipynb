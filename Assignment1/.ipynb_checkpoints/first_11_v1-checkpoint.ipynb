{
 "cells": [
  {
   "cell_type": "code",
   "execution_count": 1,
   "metadata": {},
   "outputs": [
    {
     "name": "stdout",
     "output_type": "stream",
     "text": [
      "bismillahirrahmanir-raheem\n",
      "bismillahirrahmanir-raheem\n"
     ]
    }
   ],
   "source": [
    "import numpy as np\n",
    "import matplotlib.pyplot as plt\n",
    "import random\n",
    "import cv2\n",
    "import os\n",
    "print('bismillahirrahmanir-raheem')\n",
    "print('bismillahirrahmanir-raheem')"
   ]
  },
  {
   "cell_type": "code",
   "execution_count": 2,
   "metadata": {},
   "outputs": [],
   "source": [
    "path=r\"../CIFAR-10-images-master/train\"\n",
    "classes=['airplane','automobile', 'bird', 'cat', 'deer', 'dog', 'frog', 'horse', 'ship', 'truck' ]\n",
    "classpath=[]\n",
    "allimg=[]\n",
    "cl0img=[]\n",
    "cl1img=[]\n",
    "cl2img=[]\n",
    "cl3img=[]\n",
    "cl4img=[]\n",
    "cl5img=[]\n",
    "cl6img=[]\n",
    "cl7img=[]\n",
    "cl8img=[]\n",
    "cl9img=[]\n",
    "\n",
    "for i in classes:\n",
    "    classpath.append(os.path.join(path,i))\n",
    "    \n",
    "    for im in os.listdir(classpath[-1]):\n",
    "        #allimg.append(os.path.join(classpath[-1],im))\n",
    "        if i==classes[0]:\n",
    "            cl0img.append(os.path.join(classpath[0],im))\n",
    "        if i==classes[1]:\n",
    "            cl1img.append(os.path.join(classpath[1],im))\n",
    "        if i==classes[2]:\n",
    "            cl2img.append(os.path.join(classpath[2],im))\n",
    "        if i==classes[3]:\n",
    "            cl3img.append(os.path.join(classpath[3],im))\n",
    "        if i==classes[4]:\n",
    "            cl4img.append(os.path.join(classpath[4],im))\n",
    "        if i==classes[5]:\n",
    "            cl5img.append(os.path.join(classpath[5],im))\n",
    "        if i==classes[6]:\n",
    "            cl6img.append(os.path.join(classpath[6],im))\n",
    "        if i==classes[7]:\n",
    "            cl7img.append(os.path.join(classpath[7],im))\n",
    "        if i==classes[8]:\n",
    "            cl8img.append(os.path.join(classpath[8],im))\n",
    "        if i==classes[9]:\n",
    "            cl9img.append(os.path.join(classpath[9],im))\n",
    "\n",
    "allimg=cl0img+cl1img+cl2img+cl3img+cl4img+cl5img+cl6img+cl7img+cl8img+cl9img\n",
    "random.shuffle(allimg)\n",
    "#print(len(allimg))"
   ]
  },
  {
   "cell_type": "code",
   "execution_count": 3,
   "metadata": {},
   "outputs": [
    {
     "data": {
      "image/png": "[encoded data removed]",
      "text/plain": [
       "<Figure size 432x288 with 1 Axes>"
      ]
     },
     "metadata": {
      "needs_background": "light"
     },
     "output_type": "display_data"
    }
   ],
   "source": [
    "images=[cv2.imread(i) for i in allimg]\n",
    "#print(len(images)) #50K                   \n",
    "            \n",
    "\n",
    "randcl0img=cv2.imread(random.choice(cl0img))\n",
    "randcl1img=cv2.imread(random.choice(cl1img))\n",
    "randcl2img=cv2.imread(random.choice(cl2img))\n",
    "randcl3img=cv2.imread(random.choice(cl3img))\n",
    "randcl4img=cv2.imread(random.choice(cl4img))\n",
    "randcl5img=cv2.imread(random.choice(cl5img))\n",
    "randcl6img=cv2.imread(random.choice(cl6img))\n",
    "randcl7img=cv2.imread(random.choice(cl7img))\n",
    "randcl8img=cv2.imread(random.choice(cl8img))\n",
    "randcl9img=cv2.imread(random.choice(cl9img))\n",
    "#print(np.sum(randcl0img-randcl0img)) == 0\n",
    "\n",
    "    \n",
    "# l11=[np.sum(randcl1img-i) for i in images if (i != randcl1img).any()]\n",
    "# l10=[np.sum(randcl2img-i) for i in images if (i != randcl2img).any()]\n",
    "# l10=[np.sum(randcl3img-i) for i in images if (i != randcl3img).any()]\n",
    "# l10=[np.sum(randcl4img-i) for i in images if (i != randcl4img).any()]\n",
    "# l10=[np.sum(randcl5img-i) for i in images if (i != randcl5img).any()]\n",
    "# l10=[np.sum(randcl6img-i) for i in images if (i != randcl6img).any()]\n",
    "# l10=[np.sum(randcl7img-i) for i in images if (i != randcl7img).any()]\n",
    "# l10=[np.sum(randcl8img-i) for i in images if (i != randcl8img).any()]\n",
    "# l10=[np.sum(randcl9img-i) for i in images if (i != randcl9img).any()]\n",
    "\n",
    "        \n",
    "#print(randcl0img)\n",
    "plt.imshow(randcl0img)\n",
    "plt.show()\n"
   ]
  },
  {
   "cell_type": "code",
   "execution_count": 34,
   "metadata": {
    "scrolled": true
   },
   "outputs": [
    {
     "name": "stdout",
     "output_type": "stream",
     "text": [
      "[[449.8822068052925, 454.5239267629373, 455.1450318305144, 461.71203146550124, 463.592493468132], [545.1165013095824, 548.2982764882632, 548.3830777841345, 548.8178204103799, 549.0819610950628], [520.3892773683947, 527.8304652063956, 528.2433151493732, 530.9821089264684, 531.2984095590725], [491.2361957348013, 493.6415703726743, 507.3854550536505, 507.70463854489253, 517.651427120606], [540.1073967277249, 541.3834131186511, 542.8305444611606, 543.4215674777732, 543.5991169970754], [533.55224673878, 536.8845313472907, 538.7485498820391, 539.5423987046801, 541.6290243330761], [515.6006206357786, 517.9208433728073, 518.4303231872149, 520.773463225614, 523.6067226459187], [533.2888523117655, 536.2648599339695, 536.6255677844655, 541.5385489510419, 541.7213305750475], [459.1002069265489, 528.8421314532344, 531.3548720017536, 532.7532261751213, 532.8104728700441], [534.7167474467207, 538.984229824955, 540.3323051604448, 540.5571200160072, 540.8863096806944]]\n",
      "49999\n"
     ]
    }
   ],
   "source": [
    "#print(len(list))\n",
    "#print(randcl0img.shape)\n",
    "#print(list)\n",
    "#l1=[np.sum(randcl0img-i) for i in images if (i != randcl0img).any()]\n",
    "#print(len(l1))\n",
    "l20={}\n",
    "def l2(x1,x2):\n",
    "    return np.sqrt(np.sum((x1-x2)**2))\n",
    "\n",
    "def l2main(randclimg):\n",
    "    #l20.clear()\n",
    "    sumimg=[]\n",
    "    #l20=l21=l22=l23=l24=l25=l26=l27=l28=l29=dict()\n",
    "    for i,c in enumerate(images):\n",
    "        if (c != randclimg).any():\n",
    "            l20[i]= l2(randclimg,c)\n",
    "            #sumimg0.append(l2(randcl0img,c))\n",
    "            #l20.append(images.index(i)) \n",
    "#         else:\n",
    "#             print('*')\n",
    "    #print(len(l20))  \n",
    "\n",
    "    sumimg=[i for i in l20.values()] \n",
    "    sumkeys=[i for i in l20.keys()]\n",
    "    #print(len(sumimg))\n",
    "    \n",
    "    sumimg.sort()\n",
    "    keyval=[sumimg[0:5],sumkeys]\n",
    "    return keyval\n",
    "   \n",
    "#print(len(refl2))\n",
    "#print(len(l2main(randcl3img)))\n",
    "\n",
    "randoms=[randcl0img,randcl1img,randcl2img,randcl3img,randcl4img,randcl5img,randcl6img,randcl7img,randcl8img,randcl9img]\n",
    "fiveimg=list(map(l2main,randoms))\n",
    "#print(fiveimg[0])  \n",
    "fiveimg_2=[]\n",
    "for i in fiveimg:\n",
    "    fiveimg_2.append(i[0])    \n",
    "print(fiveimg_2)\n",
    "\n",
    "fiveimg_3=[]\n",
    "for i in fiveimg:\n",
    "    fiveimg_3.append(i[1])    \n",
    "print(len(fiveimg_3[0]))\n",
    "\n",
    "    #print(len(sumimg0))          \n",
    "#print(l20[0]-images[0])\n",
    "#print(len(l20))\n",
    "#print(type(images.index(i)))\n",
    "#print(type(images[0]))       \n"
   ]
  },
  {
   "cell_type": "code",
   "execution_count": 5,
   "metadata": {},
   "outputs": [],
   "source": [
    "#print(sumimg0[0:5])\n",
    "#print(sumimg0)\n",
    "#print(len(images))\n",
    "\n",
    "#print(len(l2main(randcl2img)))\n",
    "\n",
    "# randoms=[randcl0img,randcl1img,randcl2img,randcl3img,randcl4img,randcl5img,randcl6img,randcl7img,randcl8img,randcl9img]\n",
    "# fiveimg=list(map(l2main,randoms))\n",
    "# print(fiveimg)"
   ]
  },
  {
   "cell_type": "code",
   "execution_count": 35,
   "metadata": {},
   "outputs": [
    {
     "name": "stdout",
     "output_type": "stream",
     "text": [
      "49999\n"
     ]
    },
    {
     "ename": "KeyError",
     "evalue": "449.8822068052925",
     "output_type": "error",
     "traceback": [
      "\u001b[1;31m---------------------------------------------------------------------------\u001b[0m",
      "\u001b[1;31mKeyError\u001b[0m                                  Traceback (most recent call last)",
      "\u001b[1;32m<ipython-input-35-56d68029c863>\u001b[0m in \u001b[0;36m<module>\u001b[1;34m\u001b[0m\n\u001b[0;32m     23\u001b[0m \u001b[1;32mfor\u001b[0m \u001b[0mj\u001b[0m \u001b[1;32min\u001b[0m \u001b[0mfiveimg_2\u001b[0m\u001b[1;33m:\u001b[0m\u001b[1;33m\u001b[0m\u001b[1;33m\u001b[0m\u001b[0m\n\u001b[0;32m     24\u001b[0m     \u001b[1;32mfor\u001b[0m \u001b[0mk\u001b[0m \u001b[1;32min\u001b[0m \u001b[0mj\u001b[0m\u001b[1;33m:\u001b[0m\u001b[1;33m\u001b[0m\u001b[1;33m\u001b[0m\u001b[0m\n\u001b[1;32m---> 25\u001b[1;33m         \u001b[0mimg\u001b[0m\u001b[1;33m=\u001b[0m \u001b[0mimages\u001b[0m\u001b[1;33m[\u001b[0m\u001b[0ml20\u001b[0m\u001b[1;33m[\u001b[0m\u001b[0mk\u001b[0m\u001b[1;33m]\u001b[0m\u001b[1;33m]\u001b[0m\u001b[1;33m\u001b[0m\u001b[1;33m\u001b[0m\u001b[0m\n\u001b[0m\u001b[0;32m     26\u001b[0m         \u001b[0mfig\u001b[0m\u001b[1;33m.\u001b[0m\u001b[0madd_subplot\u001b[0m\u001b[1;33m(\u001b[0m\u001b[0mrows\u001b[0m\u001b[1;33m,\u001b[0m \u001b[0mcolumns\u001b[0m\u001b[1;33m,\u001b[0m \u001b[0mp\u001b[0m\u001b[1;33m)\u001b[0m\u001b[1;33m\u001b[0m\u001b[1;33m\u001b[0m\u001b[0m\n\u001b[0;32m     27\u001b[0m         \u001b[1;32mif\u001b[0m \u001b[0mp\u001b[0m\u001b[1;33m%\u001b[0m\u001b[1;36m6\u001b[0m \u001b[1;33m==\u001b[0m \u001b[1;36m0\u001b[0m\u001b[1;33m:\u001b[0m\u001b[1;33m\u001b[0m\u001b[1;33m\u001b[0m\u001b[0m\n",
      "\u001b[1;31mKeyError\u001b[0m: 449.8822068052925"
     ]
    },
    {
     "data": {
      "image/png": "[encoded data removed]",
      "text/plain": [
       "<Figure size 576x576 with 10 Axes>"
      ]
     },
     "metadata": {
      "needs_background": "light"
     },
     "output_type": "display_data"
    }
   ],
   "source": [
    "#print(type(fiveimg))\n",
    "print(len(l20)) \n",
    "w=10\n",
    "h=10\n",
    "fig=plt.figure(figsize=(8, 8))\n",
    "columns = 6\n",
    "rows = 10\n",
    "# for i in range(1, rows+1):\n",
    "#     if i%5==1\n",
    "#     #img = np.random.randint(10, size=(h,w))\n",
    "p=1\n",
    "q=0\n",
    "\n",
    "for i in range(1,rows +1):\n",
    "    img=randoms[q]\n",
    "    q+=1\n",
    "    fig.add_subplot(rows, columns, p)\n",
    "    p+=6\n",
    "    plt.imshow(img)\n",
    "# list(l20.keys())[list(l20.values()).index(k)]\n",
    "#list(mydict.keys())[list(mydict.values()).index(16)]\n",
    "p=2\n",
    "for j in fiveimg_2:\n",
    "    for k in j:\n",
    "        img= images[l20[k]]\n",
    "        fig.add_subplot(rows, columns, p)\n",
    "        if p%6 == 0:\n",
    "            p+=2\n",
    "        else:\n",
    "            p+=1\n",
    "        plt.imshow(img)\n",
    "plt.show()\n",
    "\n",
    "# fiveimg=[l2main(randcl0img)]\n",
    "# for i in sumimg0:\n",
    "#     plt.imshow(images[l20[i]])\n",
    "#     plt.show()"
   ]
  }
 ],
 "metadata": {
  "kernelspec": {
   "display_name": "Python 3",
   "language": "python",
   "name": "python3"
  },
  "language_info": {
   "codemirror_mode": {
    "name": "ipython",
    "version": 3
   },
   "file_extension": ".py",
   "mimetype": "text/x-python",
   "name": "python",
   "nbconvert_exporter": "python",
   "pygments_lexer": "ipython3",
   "version": "3.8.3"
  }
 },
 "nbformat": 4,
 "nbformat_minor": 4
}
